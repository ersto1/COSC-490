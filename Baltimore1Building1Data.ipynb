{
  "nbformat": 4,
  "nbformat_minor": 0,
  "metadata": {
    "colab": {
      "provenance": []
    },
    "kernelspec": {
      "name": "python3",
      "display_name": "Python 3"
    },
    "language_info": {
      "name": "python"
    }
  },
  "cells": [
    {
      "cell_type": "code",
      "source": [
        "import pandas as pd\n",
        "data = pd.read_csv(\"Buildings_Footprint.csv\")\n",
        "data"
      ],
      "metadata": {
        "colab": {
          "base_uri": "https://localhost:8080/",
          "height": 942
        },
        "id": "zXXJjCSiXoIG",
        "outputId": "721bc2c0-ce65-4425-eed0-6b307203518e"
      },
      "execution_count": null,
      "outputs": [
        {
          "output_type": "stream",
          "name": "stderr",
          "text": [
            "/usr/local/lib/python3.8/dist-packages/IPython/core/interactiveshell.py:3326: DtypeWarning: Columns (2) have mixed types.Specify dtype option on import or set low_memory=False.\n",
            "  exec(code_obj, self.user_global_ns, self.user_ns)\n"
          ]
        },
        {
          "output_type": "execute_result",
          "data": {
            "text/plain": [
              "        OBJECTID_1  OBJECTID              TAG SUBTYPE                 SRCDATE  \\\n",
              "0                1         1  100000000000028   BLDNG  2000/04/01 05:00:00+00   \n",
              "1                2         2  100000000000172   BLDNG  2000/04/01 05:00:00+00   \n",
              "2                3         3  100000000000234   BLDNG  2008/03/17 05:00:00+00   \n",
              "3                4         4  100000000000237   BLDNG  2000/04/01 05:00:00+00   \n",
              "4                5         5  100000000000250   BLDNG  2008/03/17 05:00:00+00   \n",
              "...            ...       ...              ...     ...                     ...   \n",
              "108542      108543    108592                    BLDNG  2008/03/17 05:00:00+00   \n",
              "108543      108544    108593                    BLDNG  2008/03/17 05:00:00+00   \n",
              "108544      108545    108594                    BLDNG  2008/03/17 05:00:00+00   \n",
              "108545      108546    108595                    BLDNG  2008/03/17 05:00:00+00   \n",
              "108546      108547    108596                    BLDNG  2008/03/17 05:00:00+00   \n",
              "\n",
              "        SYMBOL   Shape_Leng  BUILDING_I          AREA_    PERIMETER  RuleID  \\\n",
              "0          700  2513.692279          28  122343.097548  2513.692279       1   \n",
              "1          700   618.235432         172   23175.041659   618.235432       1   \n",
              "2          700   374.427345         234    6018.802236   374.427345       1   \n",
              "3          700     9.795646         237       2.362568     9.795646       1   \n",
              "4          700   637.407929         250   13239.840327   637.407929       1   \n",
              "...        ...          ...         ...            ...          ...     ...   \n",
              "108542     700    50.214385           0       0.000000     0.000000       1   \n",
              "108543     700    65.143238           0       0.000000     0.000000       1   \n",
              "108544     700    68.761859           0       0.000000     0.000000       1   \n",
              "108545     700    39.696896           0       0.000000     0.000000       1   \n",
              "108546     700    53.986678           0       0.000000     0.000000       1   \n",
              "\n",
              "        Override  RuleID_1  Override_1  \\\n",
              "0            NaN       NaN         NaN   \n",
              "1            NaN       NaN         NaN   \n",
              "2            NaN       NaN         NaN   \n",
              "3            NaN       NaN         NaN   \n",
              "4            NaN       NaN         NaN   \n",
              "...          ...       ...         ...   \n",
              "108542       NaN       NaN         NaN   \n",
              "108543       NaN       NaN         NaN   \n",
              "108544       NaN       NaN         NaN   \n",
              "108545       NaN       NaN         NaN   \n",
              "108546       NaN       NaN         NaN   \n",
              "\n",
              "                                      GlobalID  URL    Shape__Area  \\\n",
              "0       {817E5AF4-5927-4A9B-8403-7DD5D2E95C9C}  NaN  122343.068924   \n",
              "1       {44527BD2-CF6A-4649-8C9A-0BF1CB8E973A}  NaN   23175.045446   \n",
              "2       {348BA50A-0649-4E1C-96C8-97017E698738}  NaN    6018.800365   \n",
              "3       {08C1A5D3-0229-46D0-8B06-D2BE57BBABC2}  NaN       2.362319   \n",
              "4       {8A1821B0-A1F2-4943-BE07-50E8A72813F8}  NaN   13239.846448   \n",
              "...                                        ...  ...            ...   \n",
              "108542  {52291134-91E6-45A0-B1B6-D8FE4AA904E3}  NaN     156.554746   \n",
              "108543  {F9DE92BF-C25D-4815-91E3-96DCA83171C3}  NaN     248.651028   \n",
              "108544  {727B6F29-94E0-4061-9C11-78BA6B5C224D}  NaN     295.510475   \n",
              "108545  {315CB20E-742F-40BE-B36E-FC6B6E8F88F5}  NaN      97.699721   \n",
              "108546  {F3805FA2-E1DE-40FF-B224-9DA7892EE9D5}  NaN     173.907737   \n",
              "\n",
              "        Shape__Length  \n",
              "0         2513.692072  \n",
              "1          618.235682  \n",
              "2          374.427089  \n",
              "3            9.796259  \n",
              "4          637.407609  \n",
              "...               ...  \n",
              "108542      50.214047  \n",
              "108543      65.143165  \n",
              "108544      68.761672  \n",
              "108545      39.697427  \n",
              "108546      53.986492  \n",
              "\n",
              "[108547 rows x 18 columns]"
            ],
            "text/html": [
              "\n",
              "  <div id=\"df-f58a73a4-5310-4cff-80d6-e63cc261d559\">\n",
              "    <div class=\"colab-df-container\">\n",
              "      <div>\n",
              "<style scoped>\n",
              "    .dataframe tbody tr th:only-of-type {\n",
              "        vertical-align: middle;\n",
              "    }\n",
              "\n",
              "    .dataframe tbody tr th {\n",
              "        vertical-align: top;\n",
              "    }\n",
              "\n",
              "    .dataframe thead th {\n",
              "        text-align: right;\n",
              "    }\n",
              "</style>\n",
              "<table border=\"1\" class=\"dataframe\">\n",
              "  <thead>\n",
              "    <tr style=\"text-align: right;\">\n",
              "      <th></th>\n",
              "      <th>OBJECTID_1</th>\n",
              "      <th>OBJECTID</th>\n",
              "      <th>TAG</th>\n",
              "      <th>SUBTYPE</th>\n",
              "      <th>SRCDATE</th>\n",
              "      <th>SYMBOL</th>\n",
              "      <th>Shape_Leng</th>\n",
              "      <th>BUILDING_I</th>\n",
              "      <th>AREA_</th>\n",
              "      <th>PERIMETER</th>\n",
              "      <th>RuleID</th>\n",
              "      <th>Override</th>\n",
              "      <th>RuleID_1</th>\n",
              "      <th>Override_1</th>\n",
              "      <th>GlobalID</th>\n",
              "      <th>URL</th>\n",
              "      <th>Shape__Area</th>\n",
              "      <th>Shape__Length</th>\n",
              "    </tr>\n",
              "  </thead>\n",
              "  <tbody>\n",
              "    <tr>\n",
              "      <th>0</th>\n",
              "      <td>1</td>\n",
              "      <td>1</td>\n",
              "      <td>100000000000028</td>\n",
              "      <td>BLDNG</td>\n",
              "      <td>2000/04/01 05:00:00+00</td>\n",
              "      <td>700</td>\n",
              "      <td>2513.692279</td>\n",
              "      <td>28</td>\n",
              "      <td>122343.097548</td>\n",
              "      <td>2513.692279</td>\n",
              "      <td>1</td>\n",
              "      <td>NaN</td>\n",
              "      <td>NaN</td>\n",
              "      <td>NaN</td>\n",
              "      <td>{817E5AF4-5927-4A9B-8403-7DD5D2E95C9C}</td>\n",
              "      <td>NaN</td>\n",
              "      <td>122343.068924</td>\n",
              "      <td>2513.692072</td>\n",
              "    </tr>\n",
              "    <tr>\n",
              "      <th>1</th>\n",
              "      <td>2</td>\n",
              "      <td>2</td>\n",
              "      <td>100000000000172</td>\n",
              "      <td>BLDNG</td>\n",
              "      <td>2000/04/01 05:00:00+00</td>\n",
              "      <td>700</td>\n",
              "      <td>618.235432</td>\n",
              "      <td>172</td>\n",
              "      <td>23175.041659</td>\n",
              "      <td>618.235432</td>\n",
              "      <td>1</td>\n",
              "      <td>NaN</td>\n",
              "      <td>NaN</td>\n",
              "      <td>NaN</td>\n",
              "      <td>{44527BD2-CF6A-4649-8C9A-0BF1CB8E973A}</td>\n",
              "      <td>NaN</td>\n",
              "      <td>23175.045446</td>\n",
              "      <td>618.235682</td>\n",
              "    </tr>\n",
              "    <tr>\n",
              "      <th>2</th>\n",
              "      <td>3</td>\n",
              "      <td>3</td>\n",
              "      <td>100000000000234</td>\n",
              "      <td>BLDNG</td>\n",
              "      <td>2008/03/17 05:00:00+00</td>\n",
              "      <td>700</td>\n",
              "      <td>374.427345</td>\n",
              "      <td>234</td>\n",
              "      <td>6018.802236</td>\n",
              "      <td>374.427345</td>\n",
              "      <td>1</td>\n",
              "      <td>NaN</td>\n",
              "      <td>NaN</td>\n",
              "      <td>NaN</td>\n",
              "      <td>{348BA50A-0649-4E1C-96C8-97017E698738}</td>\n",
              "      <td>NaN</td>\n",
              "      <td>6018.800365</td>\n",
              "      <td>374.427089</td>\n",
              "    </tr>\n",
              "    <tr>\n",
              "      <th>3</th>\n",
              "      <td>4</td>\n",
              "      <td>4</td>\n",
              "      <td>100000000000237</td>\n",
              "      <td>BLDNG</td>\n",
              "      <td>2000/04/01 05:00:00+00</td>\n",
              "      <td>700</td>\n",
              "      <td>9.795646</td>\n",
              "      <td>237</td>\n",
              "      <td>2.362568</td>\n",
              "      <td>9.795646</td>\n",
              "      <td>1</td>\n",
              "      <td>NaN</td>\n",
              "      <td>NaN</td>\n",
              "      <td>NaN</td>\n",
              "      <td>{08C1A5D3-0229-46D0-8B06-D2BE57BBABC2}</td>\n",
              "      <td>NaN</td>\n",
              "      <td>2.362319</td>\n",
              "      <td>9.796259</td>\n",
              "    </tr>\n",
              "    <tr>\n",
              "      <th>4</th>\n",
              "      <td>5</td>\n",
              "      <td>5</td>\n",
              "      <td>100000000000250</td>\n",
              "      <td>BLDNG</td>\n",
              "      <td>2008/03/17 05:00:00+00</td>\n",
              "      <td>700</td>\n",
              "      <td>637.407929</td>\n",
              "      <td>250</td>\n",
              "      <td>13239.840327</td>\n",
              "      <td>637.407929</td>\n",
              "      <td>1</td>\n",
              "      <td>NaN</td>\n",
              "      <td>NaN</td>\n",
              "      <td>NaN</td>\n",
              "      <td>{8A1821B0-A1F2-4943-BE07-50E8A72813F8}</td>\n",
              "      <td>NaN</td>\n",
              "      <td>13239.846448</td>\n",
              "      <td>637.407609</td>\n",
              "    </tr>\n",
              "    <tr>\n",
              "      <th>...</th>\n",
              "      <td>...</td>\n",
              "      <td>...</td>\n",
              "      <td>...</td>\n",
              "      <td>...</td>\n",
              "      <td>...</td>\n",
              "      <td>...</td>\n",
              "      <td>...</td>\n",
              "      <td>...</td>\n",
              "      <td>...</td>\n",
              "      <td>...</td>\n",
              "      <td>...</td>\n",
              "      <td>...</td>\n",
              "      <td>...</td>\n",
              "      <td>...</td>\n",
              "      <td>...</td>\n",
              "      <td>...</td>\n",
              "      <td>...</td>\n",
              "      <td>...</td>\n",
              "    </tr>\n",
              "    <tr>\n",
              "      <th>108542</th>\n",
              "      <td>108543</td>\n",
              "      <td>108592</td>\n",
              "      <td></td>\n",
              "      <td>BLDNG</td>\n",
              "      <td>2008/03/17 05:00:00+00</td>\n",
              "      <td>700</td>\n",
              "      <td>50.214385</td>\n",
              "      <td>0</td>\n",
              "      <td>0.000000</td>\n",
              "      <td>0.000000</td>\n",
              "      <td>1</td>\n",
              "      <td>NaN</td>\n",
              "      <td>NaN</td>\n",
              "      <td>NaN</td>\n",
              "      <td>{52291134-91E6-45A0-B1B6-D8FE4AA904E3}</td>\n",
              "      <td>NaN</td>\n",
              "      <td>156.554746</td>\n",
              "      <td>50.214047</td>\n",
              "    </tr>\n",
              "    <tr>\n",
              "      <th>108543</th>\n",
              "      <td>108544</td>\n",
              "      <td>108593</td>\n",
              "      <td></td>\n",
              "      <td>BLDNG</td>\n",
              "      <td>2008/03/17 05:00:00+00</td>\n",
              "      <td>700</td>\n",
              "      <td>65.143238</td>\n",
              "      <td>0</td>\n",
              "      <td>0.000000</td>\n",
              "      <td>0.000000</td>\n",
              "      <td>1</td>\n",
              "      <td>NaN</td>\n",
              "      <td>NaN</td>\n",
              "      <td>NaN</td>\n",
              "      <td>{F9DE92BF-C25D-4815-91E3-96DCA83171C3}</td>\n",
              "      <td>NaN</td>\n",
              "      <td>248.651028</td>\n",
              "      <td>65.143165</td>\n",
              "    </tr>\n",
              "    <tr>\n",
              "      <th>108544</th>\n",
              "      <td>108545</td>\n",
              "      <td>108594</td>\n",
              "      <td></td>\n",
              "      <td>BLDNG</td>\n",
              "      <td>2008/03/17 05:00:00+00</td>\n",
              "      <td>700</td>\n",
              "      <td>68.761859</td>\n",
              "      <td>0</td>\n",
              "      <td>0.000000</td>\n",
              "      <td>0.000000</td>\n",
              "      <td>1</td>\n",
              "      <td>NaN</td>\n",
              "      <td>NaN</td>\n",
              "      <td>NaN</td>\n",
              "      <td>{727B6F29-94E0-4061-9C11-78BA6B5C224D}</td>\n",
              "      <td>NaN</td>\n",
              "      <td>295.510475</td>\n",
              "      <td>68.761672</td>\n",
              "    </tr>\n",
              "    <tr>\n",
              "      <th>108545</th>\n",
              "      <td>108546</td>\n",
              "      <td>108595</td>\n",
              "      <td></td>\n",
              "      <td>BLDNG</td>\n",
              "      <td>2008/03/17 05:00:00+00</td>\n",
              "      <td>700</td>\n",
              "      <td>39.696896</td>\n",
              "      <td>0</td>\n",
              "      <td>0.000000</td>\n",
              "      <td>0.000000</td>\n",
              "      <td>1</td>\n",
              "      <td>NaN</td>\n",
              "      <td>NaN</td>\n",
              "      <td>NaN</td>\n",
              "      <td>{315CB20E-742F-40BE-B36E-FC6B6E8F88F5}</td>\n",
              "      <td>NaN</td>\n",
              "      <td>97.699721</td>\n",
              "      <td>39.697427</td>\n",
              "    </tr>\n",
              "    <tr>\n",
              "      <th>108546</th>\n",
              "      <td>108547</td>\n",
              "      <td>108596</td>\n",
              "      <td></td>\n",
              "      <td>BLDNG</td>\n",
              "      <td>2008/03/17 05:00:00+00</td>\n",
              "      <td>700</td>\n",
              "      <td>53.986678</td>\n",
              "      <td>0</td>\n",
              "      <td>0.000000</td>\n",
              "      <td>0.000000</td>\n",
              "      <td>1</td>\n",
              "      <td>NaN</td>\n",
              "      <td>NaN</td>\n",
              "      <td>NaN</td>\n",
              "      <td>{F3805FA2-E1DE-40FF-B224-9DA7892EE9D5}</td>\n",
              "      <td>NaN</td>\n",
              "      <td>173.907737</td>\n",
              "      <td>53.986492</td>\n",
              "    </tr>\n",
              "  </tbody>\n",
              "</table>\n",
              "<p>108547 rows × 18 columns</p>\n",
              "</div>\n",
              "      <button class=\"colab-df-convert\" onclick=\"convertToInteractive('df-f58a73a4-5310-4cff-80d6-e63cc261d559')\"\n",
              "              title=\"Convert this dataframe to an interactive table.\"\n",
              "              style=\"display:none;\">\n",
              "        \n",
              "  <svg xmlns=\"http://www.w3.org/2000/svg\" height=\"24px\"viewBox=\"0 0 24 24\"\n",
              "       width=\"24px\">\n",
              "    <path d=\"M0 0h24v24H0V0z\" fill=\"none\"/>\n",
              "    <path d=\"M18.56 5.44l.94 2.06.94-2.06 2.06-.94-2.06-.94-.94-2.06-.94 2.06-2.06.94zm-11 1L8.5 8.5l.94-2.06 2.06-.94-2.06-.94L8.5 2.5l-.94 2.06-2.06.94zm10 10l.94 2.06.94-2.06 2.06-.94-2.06-.94-.94-2.06-.94 2.06-2.06.94z\"/><path d=\"M17.41 7.96l-1.37-1.37c-.4-.4-.92-.59-1.43-.59-.52 0-1.04.2-1.43.59L10.3 9.45l-7.72 7.72c-.78.78-.78 2.05 0 2.83L4 21.41c.39.39.9.59 1.41.59.51 0 1.02-.2 1.41-.59l7.78-7.78 2.81-2.81c.8-.78.8-2.07 0-2.86zM5.41 20L4 18.59l7.72-7.72 1.47 1.35L5.41 20z\"/>\n",
              "  </svg>\n",
              "      </button>\n",
              "      \n",
              "  <style>\n",
              "    .colab-df-container {\n",
              "      display:flex;\n",
              "      flex-wrap:wrap;\n",
              "      gap: 12px;\n",
              "    }\n",
              "\n",
              "    .colab-df-convert {\n",
              "      background-color: #E8F0FE;\n",
              "      border: none;\n",
              "      border-radius: 50%;\n",
              "      cursor: pointer;\n",
              "      display: none;\n",
              "      fill: #1967D2;\n",
              "      height: 32px;\n",
              "      padding: 0 0 0 0;\n",
              "      width: 32px;\n",
              "    }\n",
              "\n",
              "    .colab-df-convert:hover {\n",
              "      background-color: #E2EBFA;\n",
              "      box-shadow: 0px 1px 2px rgba(60, 64, 67, 0.3), 0px 1px 3px 1px rgba(60, 64, 67, 0.15);\n",
              "      fill: #174EA6;\n",
              "    }\n",
              "\n",
              "    [theme=dark] .colab-df-convert {\n",
              "      background-color: #3B4455;\n",
              "      fill: #D2E3FC;\n",
              "    }\n",
              "\n",
              "    [theme=dark] .colab-df-convert:hover {\n",
              "      background-color: #434B5C;\n",
              "      box-shadow: 0px 1px 3px 1px rgba(0, 0, 0, 0.15);\n",
              "      filter: drop-shadow(0px 1px 2px rgba(0, 0, 0, 0.3));\n",
              "      fill: #FFFFFF;\n",
              "    }\n",
              "  </style>\n",
              "\n",
              "      <script>\n",
              "        const buttonEl =\n",
              "          document.querySelector('#df-f58a73a4-5310-4cff-80d6-e63cc261d559 button.colab-df-convert');\n",
              "        buttonEl.style.display =\n",
              "          google.colab.kernel.accessAllowed ? 'block' : 'none';\n",
              "\n",
              "        async function convertToInteractive(key) {\n",
              "          const element = document.querySelector('#df-f58a73a4-5310-4cff-80d6-e63cc261d559');\n",
              "          const dataTable =\n",
              "            await google.colab.kernel.invokeFunction('convertToInteractive',\n",
              "                                                     [key], {});\n",
              "          if (!dataTable) return;\n",
              "\n",
              "          const docLinkHtml = 'Like what you see? Visit the ' +\n",
              "            '<a target=\"_blank\" href=https://colab.research.google.com/notebooks/data_table.ipynb>data table notebook</a>'\n",
              "            + ' to learn more about interactive tables.';\n",
              "          element.innerHTML = '';\n",
              "          dataTable['output_type'] = 'display_data';\n",
              "          await google.colab.output.renderOutput(dataTable, element);\n",
              "          const docLink = document.createElement('div');\n",
              "          docLink.innerHTML = docLinkHtml;\n",
              "          element.appendChild(docLink);\n",
              "        }\n",
              "      </script>\n",
              "    </div>\n",
              "  </div>\n",
              "  "
            ]
          },
          "metadata": {},
          "execution_count": 1
        }
      ]
    },
    {
      "cell_type": "code",
      "source": [
        "import pandas as pd\n",
        "from pandas import read_csv\n",
        "to_drop = ['OBJECTID_1', 'TAG', 'SUBTYPE','SRCDATE','SYMBOL','Shape_Leng','Override','RuleID_1','Override_1','GlobalID','URL','Shape__Area','Shape__Length']\n",
        "df = pd.read_csv(\"Buildings_Footprint.csv\")\n",
        "df.drop(to_drop, inplace=True, axis=1)\n",
        "df.head()\n"
      ],
      "metadata": {
        "colab": {
          "base_uri": "https://localhost:8080/",
          "height": 258
        },
        "id": "BRW5svuZYmZP",
        "outputId": "02da8f77-776b-4bd5-8951-1506070b2001"
      },
      "execution_count": null,
      "outputs": [
        {
          "output_type": "stream",
          "name": "stderr",
          "text": [
            "/usr/local/lib/python3.8/dist-packages/IPython/core/interactiveshell.py:3326: DtypeWarning: Columns (2) have mixed types.Specify dtype option on import or set low_memory=False.\n",
            "  exec(code_obj, self.user_global_ns, self.user_ns)\n"
          ]
        },
        {
          "output_type": "execute_result",
          "data": {
            "text/plain": [
              "   OBJECTID  BUILDING_I          AREA_    PERIMETER  RuleID\n",
              "0         1          28  122343.097548  2513.692279       1\n",
              "1         2         172   23175.041659   618.235432       1\n",
              "2         3         234    6018.802236   374.427345       1\n",
              "3         4         237       2.362568     9.795646       1\n",
              "4         5         250   13239.840327   637.407929       1"
            ],
            "text/html": [
              "\n",
              "  <div id=\"df-f152c225-8120-4c9c-91c1-e9c9885150b0\">\n",
              "    <div class=\"colab-df-container\">\n",
              "      <div>\n",
              "<style scoped>\n",
              "    .dataframe tbody tr th:only-of-type {\n",
              "        vertical-align: middle;\n",
              "    }\n",
              "\n",
              "    .dataframe tbody tr th {\n",
              "        vertical-align: top;\n",
              "    }\n",
              "\n",
              "    .dataframe thead th {\n",
              "        text-align: right;\n",
              "    }\n",
              "</style>\n",
              "<table border=\"1\" class=\"dataframe\">\n",
              "  <thead>\n",
              "    <tr style=\"text-align: right;\">\n",
              "      <th></th>\n",
              "      <th>OBJECTID</th>\n",
              "      <th>BUILDING_I</th>\n",
              "      <th>AREA_</th>\n",
              "      <th>PERIMETER</th>\n",
              "      <th>RuleID</th>\n",
              "    </tr>\n",
              "  </thead>\n",
              "  <tbody>\n",
              "    <tr>\n",
              "      <th>0</th>\n",
              "      <td>1</td>\n",
              "      <td>28</td>\n",
              "      <td>122343.097548</td>\n",
              "      <td>2513.692279</td>\n",
              "      <td>1</td>\n",
              "    </tr>\n",
              "    <tr>\n",
              "      <th>1</th>\n",
              "      <td>2</td>\n",
              "      <td>172</td>\n",
              "      <td>23175.041659</td>\n",
              "      <td>618.235432</td>\n",
              "      <td>1</td>\n",
              "    </tr>\n",
              "    <tr>\n",
              "      <th>2</th>\n",
              "      <td>3</td>\n",
              "      <td>234</td>\n",
              "      <td>6018.802236</td>\n",
              "      <td>374.427345</td>\n",
              "      <td>1</td>\n",
              "    </tr>\n",
              "    <tr>\n",
              "      <th>3</th>\n",
              "      <td>4</td>\n",
              "      <td>237</td>\n",
              "      <td>2.362568</td>\n",
              "      <td>9.795646</td>\n",
              "      <td>1</td>\n",
              "    </tr>\n",
              "    <tr>\n",
              "      <th>4</th>\n",
              "      <td>5</td>\n",
              "      <td>250</td>\n",
              "      <td>13239.840327</td>\n",
              "      <td>637.407929</td>\n",
              "      <td>1</td>\n",
              "    </tr>\n",
              "  </tbody>\n",
              "</table>\n",
              "</div>\n",
              "      <button class=\"colab-df-convert\" onclick=\"convertToInteractive('df-f152c225-8120-4c9c-91c1-e9c9885150b0')\"\n",
              "              title=\"Convert this dataframe to an interactive table.\"\n",
              "              style=\"display:none;\">\n",
              "        \n",
              "  <svg xmlns=\"http://www.w3.org/2000/svg\" height=\"24px\"viewBox=\"0 0 24 24\"\n",
              "       width=\"24px\">\n",
              "    <path d=\"M0 0h24v24H0V0z\" fill=\"none\"/>\n",
              "    <path d=\"M18.56 5.44l.94 2.06.94-2.06 2.06-.94-2.06-.94-.94-2.06-.94 2.06-2.06.94zm-11 1L8.5 8.5l.94-2.06 2.06-.94-2.06-.94L8.5 2.5l-.94 2.06-2.06.94zm10 10l.94 2.06.94-2.06 2.06-.94-2.06-.94-.94-2.06-.94 2.06-2.06.94z\"/><path d=\"M17.41 7.96l-1.37-1.37c-.4-.4-.92-.59-1.43-.59-.52 0-1.04.2-1.43.59L10.3 9.45l-7.72 7.72c-.78.78-.78 2.05 0 2.83L4 21.41c.39.39.9.59 1.41.59.51 0 1.02-.2 1.41-.59l7.78-7.78 2.81-2.81c.8-.78.8-2.07 0-2.86zM5.41 20L4 18.59l7.72-7.72 1.47 1.35L5.41 20z\"/>\n",
              "  </svg>\n",
              "      </button>\n",
              "      \n",
              "  <style>\n",
              "    .colab-df-container {\n",
              "      display:flex;\n",
              "      flex-wrap:wrap;\n",
              "      gap: 12px;\n",
              "    }\n",
              "\n",
              "    .colab-df-convert {\n",
              "      background-color: #E8F0FE;\n",
              "      border: none;\n",
              "      border-radius: 50%;\n",
              "      cursor: pointer;\n",
              "      display: none;\n",
              "      fill: #1967D2;\n",
              "      height: 32px;\n",
              "      padding: 0 0 0 0;\n",
              "      width: 32px;\n",
              "    }\n",
              "\n",
              "    .colab-df-convert:hover {\n",
              "      background-color: #E2EBFA;\n",
              "      box-shadow: 0px 1px 2px rgba(60, 64, 67, 0.3), 0px 1px 3px 1px rgba(60, 64, 67, 0.15);\n",
              "      fill: #174EA6;\n",
              "    }\n",
              "\n",
              "    [theme=dark] .colab-df-convert {\n",
              "      background-color: #3B4455;\n",
              "      fill: #D2E3FC;\n",
              "    }\n",
              "\n",
              "    [theme=dark] .colab-df-convert:hover {\n",
              "      background-color: #434B5C;\n",
              "      box-shadow: 0px 1px 3px 1px rgba(0, 0, 0, 0.15);\n",
              "      filter: drop-shadow(0px 1px 2px rgba(0, 0, 0, 0.3));\n",
              "      fill: #FFFFFF;\n",
              "    }\n",
              "  </style>\n",
              "\n",
              "      <script>\n",
              "        const buttonEl =\n",
              "          document.querySelector('#df-f152c225-8120-4c9c-91c1-e9c9885150b0 button.colab-df-convert');\n",
              "        buttonEl.style.display =\n",
              "          google.colab.kernel.accessAllowed ? 'block' : 'none';\n",
              "\n",
              "        async function convertToInteractive(key) {\n",
              "          const element = document.querySelector('#df-f152c225-8120-4c9c-91c1-e9c9885150b0');\n",
              "          const dataTable =\n",
              "            await google.colab.kernel.invokeFunction('convertToInteractive',\n",
              "                                                     [key], {});\n",
              "          if (!dataTable) return;\n",
              "\n",
              "          const docLinkHtml = 'Like what you see? Visit the ' +\n",
              "            '<a target=\"_blank\" href=https://colab.research.google.com/notebooks/data_table.ipynb>data table notebook</a>'\n",
              "            + ' to learn more about interactive tables.';\n",
              "          element.innerHTML = '';\n",
              "          dataTable['output_type'] = 'display_data';\n",
              "          await google.colab.output.renderOutput(dataTable, element);\n",
              "          const docLink = document.createElement('div');\n",
              "          docLink.innerHTML = docLinkHtml;\n",
              "          element.appendChild(docLink);\n",
              "        }\n",
              "      </script>\n",
              "    </div>\n",
              "  </div>\n",
              "  "
            ]
          },
          "metadata": {},
          "execution_count": 2
        }
      ]
    },
    {
      "cell_type": "code",
      "source": [
        "import matplotlib.pyplot as plt\n",
        "column = df[\"AREA_\"]\n",
        "type(column)\n",
        "column.plot(kind=\"hist\")\n",
        "plt.show()"
      ],
      "metadata": {
        "colab": {
          "base_uri": "https://localhost:8080/",
          "height": 278
        },
        "id": "t4BJkeefdoYe",
        "outputId": "208c3020-ffe4-4a76-ceb6-48206a103f96"
      },
      "execution_count": null,
      "outputs": [
        {
          "output_type": "display_data",
          "data": {
            "text/plain": [
              "<Figure size 432x288 with 1 Axes>"
            ],
            "image/png": "[encoded data removed]"
          },
          "metadata": {
            "needs_background": "light"
          }
        }
      ]
    },
    {
      "cell_type": "code",
      "source": [
        "import matplotlib.pyplot as plt\n",
        "column = df[\"AREA_\"]\n",
        "type(column)\n",
        "column.plot(kind=\"box\")\n",
        "plt.show()"
      ],
      "metadata": {
        "colab": {
          "base_uri": "https://localhost:8080/",
          "height": 277
        },
        "id": "tmFbcI9Xecl4",
        "outputId": "13097fb9-16f8-4748-98fa-9245eb561b84"
      },
      "execution_count": null,
      "outputs": [
        {
          "output_type": "display_data",
          "data": {
            "text/plain": [
              "<Figure size 432x288 with 1 Axes>"
            ],
            "image/png": "[encoded data removed]"
          },
          "metadata": {
            "needs_background": "light"
          }
        }
      ]
    },
    {
      "cell_type": "code",
      "source": [
        "import matplotlib.pyplot as plt\n",
        "column = df[\"PERIMETER\"]\n",
        "type(column)\n",
        "column.plot(kind=\"box\")\n",
        "plt.show()"
      ],
      "metadata": {
        "id": "P4ffwUPkfx_u",
        "outputId": "8dbf4c0e-8b4a-4515-a7b5-6c81419d6433",
        "colab": {
          "base_uri": "https://localhost:8080/",
          "height": 265
        }
      },
      "execution_count": null,
      "outputs": [
        {
          "output_type": "display_data",
          "data": {
            "text/plain": [
              "<Figure size 432x288 with 1 Axes>"
            ],
            "image/png": "[encoded data removed]"
          },
          "metadata": {
            "needs_background": "light"
          }
        }
      ]
    },
    {
      "cell_type": "code",
      "source": [
        "# Scatter Plot Matrix\n",
        "import matplotlib.pyplot as plt\n",
        "import pandas\n",
        "from pandas.plotting import scatter_matrix\n",
        "url = \"Buildings_Footprints1.csv\"\n",
        "names = ['1', '2', '3', '4', '5']\n",
        "data = pandas.read_csv(url, names=names)\n",
        "scatter_matrix(data)\n",
        "plt.show()"
      ],
      "metadata": {
        "colab": {
          "base_uri": "https://localhost:8080/",
          "height": 458
        },
        "id": "Vs1KqzZ7_rNo",
        "outputId": "102c9dfc-ce54-4249-dc36-f0cc003101f3"
      },
      "execution_count": null,
      "outputs": [
        {
          "output_type": "stream",
          "name": "stderr",
          "text": [
            "/usr/local/lib/python3.8/dist-packages/pandas/plotting/_matplotlib/misc.py:91: UserWarning: Attempting to set identical left == right == 1.0 results in singular transformations; automatically expanding.\n",
            "  ax.set_xlim(boundaries_list[i])\n",
            "/usr/local/lib/python3.8/dist-packages/pandas/plotting/_matplotlib/misc.py:101: UserWarning: Attempting to set identical bottom == top == 1.0 results in singular transformations; automatically expanding.\n",
            "  ax.set_ylim(boundaries_list[i])\n",
            "/usr/local/lib/python3.8/dist-packages/pandas/plotting/_matplotlib/misc.py:100: UserWarning: Attempting to set identical left == right == 1.0 results in singular transformations; automatically expanding.\n",
            "  ax.set_xlim(boundaries_list[j])\n",
            "/usr/local/lib/python3.8/dist-packages/pandas/plotting/_matplotlib/misc.py:115: RuntimeWarning: invalid value encountered in true_divide\n",
            "  adj = (locs - lim1[0]) / (lim1[1] - lim1[0])\n"
          ]
        },
        {
          "output_type": "display_data",
          "data": {
            "text/plain": [
              "<Figure size 432x288 with 25 Axes>"
            ],
            "image/png": "[encoded data removed]"
          },
          "metadata": {
            "needs_background": "light"
          }
        }
      ]
    },
    {
      "cell_type": "code",
      "source": [
        "import pandas as pd\n",
        "url = (\"Buildings_Footprints1.csv\")\n",
        "df = pd.read_csv(url)\n",
        "type(df)\n",
        "df.head()\n",
        "\n",
        "boxplot = df.boxplot(figsize = (5,7))"
      ],
      "metadata": {
        "colab": {
          "base_uri": "https://localhost:8080/",
          "height": 428
        },
        "id": "4P6xdu962Mwr",
        "outputId": "733b3ded-5b94-432c-ed60-160a41a4733d"
      },
      "execution_count": null,
      "outputs": [
        {
          "output_type": "display_data",
          "data": {
            "text/plain": [
              "<Figure size 360x504 with 1 Axes>"
            ],
            "image/png": "[encoded data removed]"
          },
          "metadata": {
            "needs_background": "light"
          }
        }
      ]
    },
    {
      "cell_type": "code",
      "source": [
        "# Grid Search for Algorithm Tuning\n",
        "from pandas import read_csv\n",
        "import numpy\n",
        "from sklearn.linear_model import Ridge\n",
        "from sklearn.model_selection import GridSearchCV\n",
        "url = \"Buildings_Footprints1.csv\"\n",
        "names = ['1', '2', '3', '4', '5']\n",
        "dataframe = read_csv(url, names=names)\n",
        "array = dataframe.values\n",
        "X = array[:,0:5]\n",
        "Y = array[:,4]\n",
        "alphas = numpy.array([1,0.1,0.01,0.001,0.0001,0])\n",
        "param_grid = dict(alpha=alphas)\n",
        "model = Ridge()\n",
        "grid = GridSearchCV(estimator=model, param_grid=param_grid, cv=3)\n",
        "grid.fit(X, Y)\n",
        "print(grid.best_score_)\n",
        "print(grid.best_estimator_.alpha)"
      ],
      "metadata": {
        "id": "gJBOlzWjWblG"
      },
      "execution_count": null,
      "outputs": []
    },
    {
      "cell_type": "code",
      "source": [
        "from pandas import read_csv\n",
        "from sklearn.model_selection import KFold\n",
        "from sklearn.model_selection import cross_val_score\n",
        "from sklearn.linear_model import LogisticRegression\n",
        "url = \"Buildings_Footprints1.csv\"\n",
        "names = ['1', '2', '3', '4', '5']\n",
        "dataframe = read_csv(url, names=names)\n",
        "array = dataframe.values\n",
        "X = array[:,0:5]\n",
        "Y = array[:,4]\n",
        "kfold = KFold(n_splits=2, random_state=5, shuffle=True)\n",
        "model = LogisticRegression(solver='liblinear')\n",
        "results = cross_val_score(model, X, Y, cv=kfold)\n",
        "print(\"Accuracy: %.3f%% (%.3f%%)\" % (results.mean()*100.0, results.std()*100.0))"
      ],
      "metadata": {
        "colab": {
          "base_uri": "https://localhost:8080/"
        },
        "id": "5EbRNp--L1pC",
        "outputId": "26a47e28-e7c0-46f0-fc9f-b021ef7bd27a"
      },
      "execution_count": null,
      "outputs": [
        {
          "output_type": "stream",
          "name": "stdout",
          "text": [
            "Accuracy: nan% (nan%)\n"
          ]
        },
        {
          "output_type": "stream",
          "name": "stderr",
          "text": [
            "/usr/local/lib/python3.8/dist-packages/sklearn/model_selection/_validation.py:372: FitFailedWarning: \n",
            "2 fits failed out of a total of 2.\n",
            "The score on these train-test partitions for these parameters will be set to nan.\n",
            "If these failures are not expected, you can try to debug them by setting error_score='raise'.\n",
            "\n",
            "Below are more details about the failures:\n",
            "--------------------------------------------------------------------------------\n",
            "2 fits failed with the following error:\n",
            "Traceback (most recent call last):\n",
            "  File \"/usr/local/lib/python3.8/dist-packages/sklearn/model_selection/_validation.py\", line 680, in _fit_and_score\n",
            "    estimator.fit(X_train, y_train, **fit_params)\n",
            "  File \"/usr/local/lib/python3.8/dist-packages/sklearn/linear_model/_logistic.py\", line 1516, in fit\n",
            "    check_classification_targets(y)\n",
            "  File \"/usr/local/lib/python3.8/dist-packages/sklearn/utils/multiclass.py\", line 197, in check_classification_targets\n",
            "    raise ValueError(\"Unknown label type: %r\" % y_type)\n",
            "ValueError: Unknown label type: 'continuous'\n",
            "\n",
            "  warnings.warn(some_fits_failed_message, FitFailedWarning)\n"
          ]
        }
      ]
    },
    {
      "cell_type": "code",
      "source": [
        "# 6\n",
        "from sklearn.preprocessing import StandardScaler\n",
        "import pandas\n",
        "import numpy\n",
        "from pandas import read_csv\n",
        "from sklearn.model_selection import KFold\n",
        "from sklearn.model_selection import cross_val_score\n",
        "from sklearn.linear_model import LogisticRegression\n",
        "import pandas as pd\n",
        "url = \"Buildings_Footprints1.csv\"\n",
        "names = ['1', '2', '3', '4', '5']\n",
        "dataframe = read_csv(url, names=names)\n",
        "array = dataframe.values\n",
        "X = array[:,0:5]\n",
        "Y = array[:,4]\n",
        "scaler = StandardScaler().fit(X)\n",
        "rescaledX = scaler.transform(X)\n",
        "# summarize transformed data\n",
        "numpy.set_printoptions(precision=3)\n",
        "print(rescaledX[0:5,:])"
      ],
      "metadata": {
        "colab": {
          "base_uri": "https://localhost:8080/"
        },
        "id": "-SUWX1Y7XlIN",
        "outputId": "c2f82634-5cf4-4ca9-e7f3-bd5baa3e45cf"
      },
      "execution_count": null,
      "outputs": [
        {
          "output_type": "stream",
          "name": "stdout",
          "text": [
            "[[ 0.    -1.732 -1.742 -0.897 -0.352]\n",
            " [ 0.    -1.732 -1.74  10.799 18.383]\n",
            " [ 0.    -1.732 -1.733  1.965  3.196]\n",
            " [ 0.    -1.732 -1.73   0.829  0.569]\n",
            " [ 0.    -1.732 -1.73  -0.87  -0.352]]\n"
          ]
        }
      ]
    },
    {
      "cell_type": "code",
      "source": [
        "# Evaluate using Cross Validation\n",
        "from pandas import read_csv\n",
        "from sklearn.model_selection import KFold\n",
        "from sklearn.model_selection import cross_val_score\n",
        "from sklearn.linear_model import LogisticRegression\n",
        "url = \"Buildings_Footprints1.csv\"\n",
        "names = ['1', '2', '3', '4', '5']\n",
        "dataframe = read_csv(url, names=names)\n",
        "array = dataframe.values\n",
        "X = array[:,0:5]\n",
        "Y = array[:,4]\n",
        "kfold = KFold(n_splits=10, random_state=4, shuffle=True)\n",
        "model = LogisticRegression(solver='liblinear')\n",
        "results = cross_val_score(model, X, Y, cv=kfold)\n",
        "print(\"Accuracy: %.3f%% (%.3f%%)\" % (results.mean()*100.0, results.std()*100.0))"
      ],
      "metadata": {
        "colab": {
          "base_uri": "https://localhost:8080/"
        },
        "id": "o3vqd0HdY8O0",
        "outputId": "c97d20cd-1a7f-470d-ac1a-f97582232b77"
      },
      "execution_count": null,
      "outputs": [
        {
          "output_type": "stream",
          "name": "stdout",
          "text": [
            "Accuracy: nan% (nan%)\n"
          ]
        },
        {
          "output_type": "stream",
          "name": "stderr",
          "text": [
            "/usr/local/lib/python3.8/dist-packages/sklearn/model_selection/_validation.py:372: FitFailedWarning: \n",
            "10 fits failed out of a total of 10.\n",
            "The score on these train-test partitions for these parameters will be set to nan.\n",
            "If these failures are not expected, you can try to debug them by setting error_score='raise'.\n",
            "\n",
            "Below are more details about the failures:\n",
            "--------------------------------------------------------------------------------\n",
            "10 fits failed with the following error:\n",
            "Traceback (most recent call last):\n",
            "  File \"/usr/local/lib/python3.8/dist-packages/sklearn/model_selection/_validation.py\", line 680, in _fit_and_score\n",
            "    estimator.fit(X_train, y_train, **fit_params)\n",
            "  File \"/usr/local/lib/python3.8/dist-packages/sklearn/linear_model/_logistic.py\", line 1516, in fit\n",
            "    check_classification_targets(y)\n",
            "  File \"/usr/local/lib/python3.8/dist-packages/sklearn/utils/multiclass.py\", line 197, in check_classification_targets\n",
            "    raise ValueError(\"Unknown label type: %r\" % y_type)\n",
            "ValueError: Unknown label type: 'continuous'\n",
            "\n",
            "  warnings.warn(some_fits_failed_message, FitFailedWarning)\n"
          ]
        }
      ]
    },
    {
      "cell_type": "code",
      "source": [
        "# Cross Validation Classification LogLoss\n",
        "from pandas import read_csv\n",
        "from sklearn.model_selection import KFold\n",
        "from sklearn.model_selection import cross_val_score\n",
        "from sklearn.linear_model import LogisticRegression\n",
        "url = \"Buildings_Footprints1.csv\"\n",
        "names = ['1', '2', '3', '4', '5']\n",
        "dataframe = read_csv(url, names=names)\n",
        "array = dataframe.values\n",
        "X = array[:,0:5]\n",
        "Y = array[:,1]\n",
        "kfold = KFold(n_splits=10, random_state=None)\n",
        "model = LogisticRegression(solver='liblinear')\n",
        "scoring = 'neg_log_loss'\n",
        "results = cross_val_score(model, X, Y, cv=kfold, scoring=scoring)\n",
        "print('Logloss: %.3f (%.3f))' % (results.mean(), results.std()))"
      ],
      "metadata": {
        "id": "H39A7U-adlVK"
      },
      "execution_count": null,
      "outputs": []
    },
    {
      "cell_type": "code",
      "source": [
        "# KNN Regression\n",
        "from pandas import read_csv\n",
        "from sklearn.model_selection import KFold\n",
        "from sklearn.model_selection import cross_val_score\n",
        "from sklearn.neighbors import KNeighborsRegressor\n",
        "url = \"Buildings_Footprints1.csv\"\n",
        "names = ['1', '2', '3', '4', '5']\n",
        "dataframe = read_csv(url, delim_whitespace=True, names=names)\n",
        "array = dataframe.values\n",
        "X = array[:,0:5]\n",
        "Y = array[:,4]\n",
        "kfold = KFold(n_splits=10, random_state=None)\n",
        "model = KNeighborsRegressor()\n",
        "scoring = 'neg_mean_squared_error'\n",
        "results = cross_val_score(model, X, Y, cv=kfold, scoring=scoring)\n",
        "print(results.mean())"
      ],
      "metadata": {
        "colab": {
          "base_uri": "https://localhost:8080/"
        },
        "id": "nAc8kdF6asb3",
        "outputId": "6b28f3a7-a007-4dff-a79a-41e9966f1d3b"
      },
      "execution_count": null,
      "outputs": [
        {
          "output_type": "stream",
          "name": "stdout",
          "text": [
            "nan\n"
          ]
        },
        {
          "output_type": "stream",
          "name": "stderr",
          "text": [
            "/usr/local/lib/python3.8/dist-packages/sklearn/model_selection/_validation.py:372: FitFailedWarning: \n",
            "10 fits failed out of a total of 10.\n",
            "The score on these train-test partitions for these parameters will be set to nan.\n",
            "If these failures are not expected, you can try to debug them by setting error_score='raise'.\n",
            "\n",
            "Below are more details about the failures:\n",
            "--------------------------------------------------------------------------------\n",
            "1 fits failed with the following error:\n",
            "Traceback (most recent call last):\n",
            "  File \"/usr/local/lib/python3.8/dist-packages/sklearn/model_selection/_validation.py\", line 680, in _fit_and_score\n",
            "    estimator.fit(X_train, y_train, **fit_params)\n",
            "  File \"/usr/local/lib/python3.8/dist-packages/sklearn/neighbors/_regression.py\", line 213, in fit\n",
            "    return self._fit(X, y)\n",
            "  File \"/usr/local/lib/python3.8/dist-packages/sklearn/neighbors/_base.py\", line 400, in _fit\n",
            "    X, y = self._validate_data(X, y, accept_sparse=\"csr\", multi_output=True)\n",
            "  File \"/usr/local/lib/python3.8/dist-packages/sklearn/base.py\", line 581, in _validate_data\n",
            "    X, y = check_X_y(X, y, **check_params)\n",
            "  File \"/usr/local/lib/python3.8/dist-packages/sklearn/utils/validation.py\", line 964, in check_X_y\n",
            "    X = check_array(\n",
            "  File \"/usr/local/lib/python3.8/dist-packages/sklearn/utils/validation.py\", line 746, in check_array\n",
            "    array = np.asarray(array, order=order, dtype=dtype)\n",
            "ValueError: could not convert string to float: '1,6554,7136,390.371116,4540.124718'\n",
            "\n",
            "--------------------------------------------------------------------------------\n",
            "9 fits failed with the following error:\n",
            "Traceback (most recent call last):\n",
            "  File \"/usr/local/lib/python3.8/dist-packages/sklearn/model_selection/_validation.py\", line 680, in _fit_and_score\n",
            "    estimator.fit(X_train, y_train, **fit_params)\n",
            "  File \"/usr/local/lib/python3.8/dist-packages/sklearn/neighbors/_regression.py\", line 213, in fit\n",
            "    return self._fit(X, y)\n",
            "  File \"/usr/local/lib/python3.8/dist-packages/sklearn/neighbors/_base.py\", line 400, in _fit\n",
            "    X, y = self._validate_data(X, y, accept_sparse=\"csr\", multi_output=True)\n",
            "  File \"/usr/local/lib/python3.8/dist-packages/sklearn/base.py\", line 581, in _validate_data\n",
            "    X, y = check_X_y(X, y, **check_params)\n",
            "  File \"/usr/local/lib/python3.8/dist-packages/sklearn/utils/validation.py\", line 964, in check_X_y\n",
            "    X = check_array(\n",
            "  File \"/usr/local/lib/python3.8/dist-packages/sklearn/utils/validation.py\", line 746, in check_array\n",
            "    array = np.asarray(array, order=order, dtype=dtype)\n",
            "ValueError: could not convert string to float: '1,2,3,4,5'\n",
            "\n",
            "  warnings.warn(some_fits_failed_message, FitFailedWarning)\n"
          ]
        }
      ]
    },
    {
      "cell_type": "code",
      "source": [
        "# Compare Algorithms\n",
        "from pandas import read_csv\n",
        "from sklearn.model_selection import KFold\n",
        "from sklearn.model_selection import cross_val_score\n",
        "from sklearn.linear_model import LogisticRegression\n",
        "from sklearn.discriminant_analysis import LinearDiscriminantAnalysis\n",
        "# load dataset\n",
        "url = \"Buildings_Footprints1.csv\"\n",
        "names = ['1', '2', '3', '4', '5']\n",
        "dataframe = read_csv(url, names=names)\n",
        "array = dataframe.values\n",
        "X = array[:,0:5]\n",
        "Y = array[:,4]\n",
        "# prepare models\n",
        "models = []\n",
        "models.append(('LR', LogisticRegression(solver='liblinear')))\n",
        "models.append(('LDA', LinearDiscriminantAnalysis()))\n",
        "# evaluate each model in turn\n",
        "results = []\n",
        "names = []\n",
        "scoring = 'accuracy'\n",
        "for name, model in models:\n",
        "\tkfold = KFold(n_splits=10, random_state=None)\n",
        "\tcv_results = cross_val_score(model, X, Y, cv=kfold, scoring=scoring)\n",
        "\tresults.append(cv_results)\n",
        "\tnames.append(name)\n",
        "\tmsg = \"%s: %f (%f)\" % (name, cv_results.mean(), cv_results.std())\n",
        "\tprint(msg)"
      ],
      "metadata": {
        "colab": {
          "base_uri": "https://localhost:8080/"
        },
        "id": "x-Qn8MHsO65x",
        "outputId": "9fcfd8f0-44d6-4b5b-eee0-81c1922ff1c2"
      },
      "execution_count": null,
      "outputs": [
        {
          "output_type": "stream",
          "name": "stdout",
          "text": [
            "LR: nan (nan)\n",
            "LDA: nan (nan)\n"
          ]
        },
        {
          "output_type": "stream",
          "name": "stderr",
          "text": [
            "/usr/local/lib/python3.8/dist-packages/sklearn/model_selection/_validation.py:372: FitFailedWarning: \n",
            "10 fits failed out of a total of 10.\n",
            "The score on these train-test partitions for these parameters will be set to nan.\n",
            "If these failures are not expected, you can try to debug them by setting error_score='raise'.\n",
            "\n",
            "Below are more details about the failures:\n",
            "--------------------------------------------------------------------------------\n",
            "10 fits failed with the following error:\n",
            "Traceback (most recent call last):\n",
            "  File \"/usr/local/lib/python3.8/dist-packages/sklearn/model_selection/_validation.py\", line 680, in _fit_and_score\n",
            "    estimator.fit(X_train, y_train, **fit_params)\n",
            "  File \"/usr/local/lib/python3.8/dist-packages/sklearn/linear_model/_logistic.py\", line 1516, in fit\n",
            "    check_classification_targets(y)\n",
            "  File \"/usr/local/lib/python3.8/dist-packages/sklearn/utils/multiclass.py\", line 197, in check_classification_targets\n",
            "    raise ValueError(\"Unknown label type: %r\" % y_type)\n",
            "ValueError: Unknown label type: 'continuous'\n",
            "\n",
            "  warnings.warn(some_fits_failed_message, FitFailedWarning)\n",
            "/usr/local/lib/python3.8/dist-packages/sklearn/model_selection/_validation.py:372: FitFailedWarning: \n",
            "10 fits failed out of a total of 10.\n",
            "The score on these train-test partitions for these parameters will be set to nan.\n",
            "If these failures are not expected, you can try to debug them by setting error_score='raise'.\n",
            "\n",
            "Below are more details about the failures:\n",
            "--------------------------------------------------------------------------------\n",
            "1 fits failed with the following error:\n",
            "Traceback (most recent call last):\n",
            "  File \"/usr/local/lib/python3.8/dist-packages/sklearn/model_selection/_validation.py\", line 680, in _fit_and_score\n",
            "    estimator.fit(X_train, y_train, **fit_params)\n",
            "  File \"/usr/local/lib/python3.8/dist-packages/sklearn/discriminant_analysis.py\", line 547, in fit\n",
            "    self.classes_ = unique_labels(y)\n",
            "  File \"/usr/local/lib/python3.8/dist-packages/sklearn/utils/multiclass.py\", line 101, in unique_labels\n",
            "    raise ValueError(\"Unknown label type: %s\" % repr(ys))\n",
            "ValueError: Unknown label type: (array([4540.125, 8613.735,  232.485, ..., 1667.901,  627.821, 3411.459]),)\n",
            "\n",
            "--------------------------------------------------------------------------------\n",
            "8 fits failed with the following error:\n",
            "Traceback (most recent call last):\n",
            "  File \"/usr/local/lib/python3.8/dist-packages/sklearn/model_selection/_validation.py\", line 680, in _fit_and_score\n",
            "    estimator.fit(X_train, y_train, **fit_params)\n",
            "  File \"/usr/local/lib/python3.8/dist-packages/sklearn/discriminant_analysis.py\", line 547, in fit\n",
            "    self.classes_ = unique_labels(y)\n",
            "  File \"/usr/local/lib/python3.8/dist-packages/sklearn/utils/multiclass.py\", line 101, in unique_labels\n",
            "    raise ValueError(\"Unknown label type: %s\" % repr(ys))\n",
            "ValueError: Unknown label type: (array([5.000e+00, 1.223e+05, 2.318e+04, ..., 1.668e+03, 6.278e+02,\n",
            "       3.411e+03]),)\n",
            "\n",
            "--------------------------------------------------------------------------------\n",
            "1 fits failed with the following error:\n",
            "Traceback (most recent call last):\n",
            "  File \"/usr/local/lib/python3.8/dist-packages/sklearn/model_selection/_validation.py\", line 680, in _fit_and_score\n",
            "    estimator.fit(X_train, y_train, **fit_params)\n",
            "  File \"/usr/local/lib/python3.8/dist-packages/sklearn/discriminant_analysis.py\", line 547, in fit\n",
            "    self.classes_ = unique_labels(y)\n",
            "  File \"/usr/local/lib/python3.8/dist-packages/sklearn/utils/multiclass.py\", line 101, in unique_labels\n",
            "    raise ValueError(\"Unknown label type: %s\" % repr(ys))\n",
            "ValueError: Unknown label type: (array([5.000e+00, 1.223e+05, 2.318e+04, ..., 7.228e+03, 3.120e+03,\n",
            "       1.309e+03]),)\n",
            "\n",
            "  warnings.warn(some_fits_failed_message, FitFailedWarning)\n"
          ]
        }
      ]
    },
    {
      "cell_type": "code",
      "source": [
        "# Grid Search for Algorithm Tuning\n",
        "from pandas import read_csv\n",
        "import numpy\n",
        "from sklearn.linear_model import Ridge\n",
        "from sklearn.model_selection import GridSearchCV\n",
        "url = \"Buildings_Footprints1.csv\"\n",
        "names = ['1', '2', '3', '4', '5']\n",
        "dataframe = read_csv(url, names=names)\n",
        "array = dataframe.values\n",
        "X = array[:,0:5]\n",
        "Y = array[:,4]\n",
        "alphas = numpy.array([1,0.1,0.01,0.001,0.0001,0])\n",
        "param_grid = dict(alpha=alphas)\n",
        "model = Ridge()\n",
        "grid = GridSearchCV(estimator=model, param_grid=param_grid, cv=3)\n",
        "grid.fit(X, Y)\n",
        "print(grid.best_score_)\n",
        "print(grid.best_estimator_.alpha)"
      ],
      "metadata": {
        "colab": {
          "base_uri": "https://localhost:8080/"
        },
        "id": "66jruA_QcFvF",
        "outputId": "145c66c3-9c9b-4391-b462-9fa97a288cba"
      },
      "execution_count": null,
      "outputs": [
        {
          "output_type": "stream",
          "name": "stdout",
          "text": [
            "0.6704930860999075\n",
            "1.0\n"
          ]
        },
        {
          "output_type": "stream",
          "name": "stderr",
          "text": [
            "/usr/local/lib/python3.8/dist-packages/sklearn/linear_model/_ridge.py:157: LinAlgWarning: Ill-conditioned matrix (rcond=6.65677e-17): result may not be accurate.\n",
            "  return linalg.solve(A, Xy, sym_pos=True, overwrite_a=True).T\n",
            "/usr/local/lib/python3.8/dist-packages/sklearn/linear_model/_ridge.py:157: LinAlgWarning: Ill-conditioned matrix (rcond=2.06799e-17): result may not be accurate.\n",
            "  return linalg.solve(A, Xy, sym_pos=True, overwrite_a=True).T\n",
            "/usr/local/lib/python3.8/dist-packages/sklearn/linear_model/_ridge.py:157: LinAlgWarning: Ill-conditioned matrix (rcond=6.76765e-17): result may not be accurate.\n",
            "  return linalg.solve(A, Xy, sym_pos=True, overwrite_a=True).T\n",
            "/usr/local/lib/python3.8/dist-packages/sklearn/linear_model/_ridge.py:157: LinAlgWarning: Ill-conditioned matrix (rcond=6.65677e-18): result may not be accurate.\n",
            "  return linalg.solve(A, Xy, sym_pos=True, overwrite_a=True).T\n",
            "/usr/local/lib/python3.8/dist-packages/sklearn/linear_model/_ridge.py:157: LinAlgWarning: Ill-conditioned matrix (rcond=2.06799e-18): result may not be accurate.\n",
            "  return linalg.solve(A, Xy, sym_pos=True, overwrite_a=True).T\n",
            "/usr/local/lib/python3.8/dist-packages/sklearn/linear_model/_ridge.py:157: LinAlgWarning: Ill-conditioned matrix (rcond=6.76765e-18): result may not be accurate.\n",
            "  return linalg.solve(A, Xy, sym_pos=True, overwrite_a=True).T\n"
          ]
        }
      ]
    },
    {
      "cell_type": "code",
      "source": [
        "# Random Forest Classification\n",
        "from pandas import read_csv\n",
        "from sklearn.model_selection import KFold\n",
        "from sklearn.model_selection import cross_val_score\n",
        "from sklearn.ensemble import RandomForestClassifier\n",
        "url = \"Buildings_Footprints1.csv\"\n",
        "names = ['1', '2', '3', '4', '5']\n",
        "dataframe = read_csv(url, names=names)\n",
        "array = dataframe.values\n",
        "X = array[:,0:5]\n",
        "Y = array[:,1]\n",
        "num_trees = 100\n",
        "max_features = 5\n",
        "kfold = KFold(n_splits=10, random_state=None)\n",
        "model = RandomForestClassifier(n_estimators=num_trees, max_features=max_features)\n",
        "results = cross_val_score(model, X, Y, cv=kfold)\n",
        "print(results.mean())"
      ],
      "metadata": {
        "colab": {
          "base_uri": "https://localhost:8080/"
        },
        "id": "imYM4BQ0cnaQ",
        "outputId": "6599ce8a-7f22-41ee-b65c-7b2caa2b2ef3"
      },
      "execution_count": null,
      "outputs": [
        {
          "output_type": "stream",
          "name": "stdout",
          "text": [
            "nan\n"
          ]
        },
        {
          "output_type": "stream",
          "name": "stderr",
          "text": [
            "/usr/local/lib/python3.8/dist-packages/sklearn/model_selection/_validation.py:372: FitFailedWarning: \n",
            "10 fits failed out of a total of 10.\n",
            "The score on these train-test partitions for these parameters will be set to nan.\n",
            "If these failures are not expected, you can try to debug them by setting error_score='raise'.\n",
            "\n",
            "Below are more details about the failures:\n",
            "--------------------------------------------------------------------------------\n",
            "10 fits failed with the following error:\n",
            "Traceback (most recent call last):\n",
            "  File \"/usr/local/lib/python3.8/dist-packages/sklearn/model_selection/_validation.py\", line 680, in _fit_and_score\n",
            "    estimator.fit(X_train, y_train, **fit_params)\n",
            "  File \"/usr/local/lib/python3.8/dist-packages/sklearn/ensemble/_forest.py\", line 367, in fit\n",
            "    y, expanded_class_weight = self._validate_y_class_weight(y)\n",
            "  File \"/usr/local/lib/python3.8/dist-packages/sklearn/ensemble/_forest.py\", line 734, in _validate_y_class_weight\n",
            "    check_classification_targets(y)\n",
            "  File \"/usr/local/lib/python3.8/dist-packages/sklearn/utils/multiclass.py\", line 197, in check_classification_targets\n",
            "    raise ValueError(\"Unknown label type: %r\" % y_type)\n",
            "ValueError: Unknown label type: 'continuous'\n",
            "\n",
            "  warnings.warn(some_fits_failed_message, FitFailedWarning)\n"
          ]
        }
      ]
    }
  ]
}